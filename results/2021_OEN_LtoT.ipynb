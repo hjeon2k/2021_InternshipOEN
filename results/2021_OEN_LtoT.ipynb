{
  "nbformat": 4,
  "nbformat_minor": 0,
  "metadata": {
    "colab": {
      "name": "2021_OEN_LtoT",
      "provenance": [],
      "collapsed_sections": []
    },
    "kernelspec": {
      "name": "python3",
      "display_name": "Python 3"
    }
  },
  "cells": [
    {
      "cell_type": "code",
      "metadata": {
        "colab": {
          "base_uri": "https://localhost:8080/"
        },
        "id": "n0AqOEW0knp0",
        "outputId": "9fc90f8c-5b16-4efe-b609-f68637005df8"
      },
      "source": [
        "!pip install -q tensorflow-gpu==2.0.0-rc1\r\n",
        "!pip3 install 'gast==0.3.3'\r\n",
        "import tensorflow as tf"
      ],
      "execution_count": null,
      "outputs": [
        {
          "output_type": "stream",
          "text": [
            "Requirement already satisfied: gast==0.3.3 in /usr/local/lib/python3.6/dist-packages (0.3.3)\n"
          ],
          "name": "stdout"
        }
      ]
    },
    {
      "cell_type": "code",
      "metadata": {
        "colab": {
          "base_uri": "https://localhost:8080/"
        },
        "id": "gPGN6kC_k3Xh",
        "outputId": "b0408903-ee47-45ef-9cef-0eadbee2320c"
      },
      "source": [
        "import matplotlib.pyplot as plt\r\n",
        "import pandas as pd\r\n",
        "import numpy as np\r\n",
        "import time\r\n",
        "from scipy.interpolate import splrep, splev\r\n",
        "\r\n",
        "from sklearn.preprocessing import MinMaxScaler\r\n",
        "from sklearn.compose import make_column_transformer\r\n",
        "from sklearn.model_selection import train_test_split\r\n",
        "\r\n",
        "from tensorflow import keras\r\n",
        "from tensorflow.keras import layers\r\n",
        "from tensorflow.keras import callbacks\r\n",
        "from tensorflow.keras.callbacks import EarlyStopping\r\n",
        "\r\n",
        "from google.colab import drive\r\n",
        "drive.mount('/content/drive')\r\n",
        "Folder = '/content/drive/My Drive/Colab Notebooks/2021_OEN/'"
      ],
      "execution_count": null,
      "outputs": [
        {
          "output_type": "stream",
          "text": [
            "Drive already mounted at /content/drive; to attempt to forcibly remount, call drive.mount(\"/content/drive\", force_remount=True).\n"
          ],
          "name": "stdout"
        }
      ]
    },
    {
      "cell_type": "code",
      "metadata": {
        "colab": {
          "base_uri": "https://localhost:8080/",
          "height": 213
        },
        "id": "1SU5Bv1jmQ9C",
        "outputId": "d9936348-1b2c-405e-a668-ed9d27dac3d0"
      },
      "source": [
        "fX = Folder + 'saveL_20.csv'\r\n",
        "fy = Folder + 'saveT_20.csv'\r\n",
        "X = pd.read_csv(fX)\r\n",
        "y = pd.read_csv(fy)\r\n",
        "print(X.shape, y.shape)\r\n",
        "X.head()"
      ],
      "execution_count": null,
      "outputs": [
        {
          "output_type": "stream",
          "text": [
            "(200000, 8) (200000, 201)\n"
          ],
          "name": "stdout"
        },
        {
          "output_type": "execute_result",
          "data": {
            "text/html": [
              "<div>\n",
              "<style scoped>\n",
              "    .dataframe tbody tr th:only-of-type {\n",
              "        vertical-align: middle;\n",
              "    }\n",
              "\n",
              "    .dataframe tbody tr th {\n",
              "        vertical-align: top;\n",
              "    }\n",
              "\n",
              "    .dataframe thead th {\n",
              "        text-align: right;\n",
              "    }\n",
              "</style>\n",
              "<table border=\"1\" class=\"dataframe\">\n",
              "  <thead>\n",
              "    <tr style=\"text-align: right;\">\n",
              "      <th></th>\n",
              "      <th># L1_1</th>\n",
              "      <th>L1_2</th>\n",
              "      <th>L2_1</th>\n",
              "      <th>L2_2</th>\n",
              "      <th>L3_1</th>\n",
              "      <th>L3_2</th>\n",
              "      <th>L4_1</th>\n",
              "      <th>L4_2</th>\n",
              "    </tr>\n",
              "  </thead>\n",
              "  <tbody>\n",
              "    <tr>\n",
              "      <th>0</th>\n",
              "      <td>97.0</td>\n",
              "      <td>71.0</td>\n",
              "      <td>85.0</td>\n",
              "      <td>98.0</td>\n",
              "      <td>58.0</td>\n",
              "      <td>126.0</td>\n",
              "      <td>164.0</td>\n",
              "      <td>75.0</td>\n",
              "    </tr>\n",
              "    <tr>\n",
              "      <th>1</th>\n",
              "      <td>124.0</td>\n",
              "      <td>85.0</td>\n",
              "      <td>186.0</td>\n",
              "      <td>70.0</td>\n",
              "      <td>79.0</td>\n",
              "      <td>145.0</td>\n",
              "      <td>146.0</td>\n",
              "      <td>51.0</td>\n",
              "    </tr>\n",
              "    <tr>\n",
              "      <th>2</th>\n",
              "      <td>171.0</td>\n",
              "      <td>85.0</td>\n",
              "      <td>192.0</td>\n",
              "      <td>100.0</td>\n",
              "      <td>163.0</td>\n",
              "      <td>152.0</td>\n",
              "      <td>96.0</td>\n",
              "      <td>129.0</td>\n",
              "    </tr>\n",
              "    <tr>\n",
              "      <th>3</th>\n",
              "      <td>72.0</td>\n",
              "      <td>162.0</td>\n",
              "      <td>53.0</td>\n",
              "      <td>152.0</td>\n",
              "      <td>96.0</td>\n",
              "      <td>158.0</td>\n",
              "      <td>96.0</td>\n",
              "      <td>59.0</td>\n",
              "    </tr>\n",
              "    <tr>\n",
              "      <th>4</th>\n",
              "      <td>186.0</td>\n",
              "      <td>40.0</td>\n",
              "      <td>141.0</td>\n",
              "      <td>174.0</td>\n",
              "      <td>97.0</td>\n",
              "      <td>113.0</td>\n",
              "      <td>107.0</td>\n",
              "      <td>124.0</td>\n",
              "    </tr>\n",
              "  </tbody>\n",
              "</table>\n",
              "</div>"
            ],
            "text/plain": [
              "   # L1_1   L1_2   L2_1   L2_2   L3_1   L3_2   L4_1   L4_2\n",
              "0    97.0   71.0   85.0   98.0   58.0  126.0  164.0   75.0\n",
              "1   124.0   85.0  186.0   70.0   79.0  145.0  146.0   51.0\n",
              "2   171.0   85.0  192.0  100.0  163.0  152.0   96.0  129.0\n",
              "3    72.0  162.0   53.0  152.0   96.0  158.0   96.0   59.0\n",
              "4   186.0   40.0  141.0  174.0   97.0  113.0  107.0  124.0"
            ]
          },
          "metadata": {
            "tags": []
          },
          "execution_count": 48
        }
      ]
    },
    {
      "cell_type": "code",
      "metadata": {
        "id": "C1J_DSU4y6jG"
      },
      "source": [
        "features_num = list(X.columns)\r\n",
        "preprocessor = make_column_transformer((MinMaxScaler(), features_num),)\r\n",
        "\r\n",
        "X = X.apply(lambda x: (x-40)/160)\r\n",
        "X_train, X_valid, y_train, y_valid = train_test_split(X, y, test_size=0.25)\r\n",
        "\r\n",
        "input_shape = [X_train.shape[1]]\r\n",
        "\r\n",
        "early_stopping = callbacks.EarlyStopping(\r\n",
        "    min_delta=0.001,\r\n",
        "    patience=50,\r\n",
        "    restore_best_weights=True,\r\n",
        ")"
      ],
      "execution_count": null,
      "outputs": []
    },
    {
      "cell_type": "code",
      "metadata": {
        "colab": {
          "base_uri": "https://localhost:8080/",
          "height": 335
        },
        "id": "gyLAwT7m2Rm2",
        "outputId": "6a20d2f7-2e15-4c7e-c424-79ed4ef4540c"
      },
      "source": [
        "model = keras.Sequential([\r\n",
        "    layers.Dense(300, activation='relu', input_shape=input_shape),\r\n",
        "    layers.Dense(300, activation='relu'),\r\n",
        "    layers.Dense(300, activation='relu'),\r\n",
        "    layers.Dense(300, activation='relu'),\r\n",
        "    layers.Dense(201)\r\n",
        "])\r\n",
        "\r\n",
        "model.compile(\r\n",
        "    optimizer='adam',\r\n",
        "    loss='mae',\r\n",
        ")\r\n",
        "\r\n",
        "compile_start = time.time()\r\n",
        "history = model.fit(\r\n",
        "    X_train, y_train,\r\n",
        "    validation_data=(X_valid, y_valid),\r\n",
        "    batch_size=100,\r\n",
        "    epochs=1000,\r\n",
        "    callbacks=[early_stopping],\r\n",
        "    verbose=0,\r\n",
        ")\r\n",
        "compile_end = time.time()\r\n",
        "print(\"Model Compile Runtime : \", np.round(compile_end - compile_start))\r\n",
        "\r\n",
        "history_df = pd.DataFrame(history.history)\r\n",
        "history_df.loc[:, ['loss', 'val_loss']].plot()\r\n",
        "print(\"Minimum Train Loss : {:0.4f} \\n Minimum Validation Loss: {:0.4f}\".format(history_df['loss'].min(), history_df['val_loss'].min()))"
      ],
      "execution_count": null,
      "outputs": [
        {
          "output_type": "stream",
          "text": [
            "WARNING:tensorflow:Falling back from v2 loop because of error: Failed to find data adapter that can handle input: <class 'pandas.core.frame.DataFrame'>, <class 'NoneType'>\n",
            "Model Compile Runtime :  2824.0\n",
            "Minimum Train Loss : 0.0099 \n",
            " Minimum Validation Loss: 0.0098\n"
          ],
          "name": "stdout"
        },
        {
          "output_type": "display_data",
          "data": {
            "image/png": "[encoded data removed]",
            "text/plain": [
              "<Figure size 432x288 with 1 Axes>"
            ]
          },
          "metadata": {
            "tags": [],
            "needs_background": "light"
          }
        }
      ]
    },
    {
      "cell_type": "code",
      "metadata": {
        "colab": {
          "base_uri": "https://localhost:8080/"
        },
        "id": "RBhOtgs4Xr-f",
        "outputId": "abf53d0c-a631-48bd-85ac-3025f47f9a14"
      },
      "source": [
        "model.save(Folder + \"8L_model_20\", save_format='tf')\r\n",
        "load_model = keras.models.load_model(Folder + \"8L_model_20\")\r\n",
        "load_model.summary()"
      ],
      "execution_count": null,
      "outputs": [
        {
          "output_type": "stream",
          "text": [
            "WARNING:tensorflow:Entity <function Function._initialize_uninitialized_variables.<locals>.initialize_variables at 0x7f6ea9aa8a60> could not be transformed and will be executed as-is. Please report this to the AutoGraph team. When filing the bug, set the verbosity to 10 (on Linux, `export AUTOGRAPH_VERBOSITY=10`) and attach the full output. Cause: module 'gast' has no attribute 'Num'\n",
            "WARNING: Entity <function Function._initialize_uninitialized_variables.<locals>.initialize_variables at 0x7f6ea9aa8a60> could not be transformed and will be executed as-is. Please report this to the AutoGraph team. When filing the bug, set the verbosity to 10 (on Linux, `export AUTOGRAPH_VERBOSITY=10`) and attach the full output. Cause: module 'gast' has no attribute 'Num'\n",
            "WARNING:tensorflow:Entity <function Function._initialize_uninitialized_variables.<locals>.initialize_variables at 0x7f6ea99b2b70> could not be transformed and will be executed as-is. Please report this to the AutoGraph team. When filing the bug, set the verbosity to 10 (on Linux, `export AUTOGRAPH_VERBOSITY=10`) and attach the full output. Cause: module 'gast' has no attribute 'Num'\n",
            "WARNING: Entity <function Function._initialize_uninitialized_variables.<locals>.initialize_variables at 0x7f6ea99b2b70> could not be transformed and will be executed as-is. Please report this to the AutoGraph team. When filing the bug, set the verbosity to 10 (on Linux, `export AUTOGRAPH_VERBOSITY=10`) and attach the full output. Cause: module 'gast' has no attribute 'Num'\n",
            "WARNING:tensorflow:Entity <function Function._initialize_uninitialized_variables.<locals>.initialize_variables at 0x7f6ea99de840> could not be transformed and will be executed as-is. Please report this to the AutoGraph team. When filing the bug, set the verbosity to 10 (on Linux, `export AUTOGRAPH_VERBOSITY=10`) and attach the full output. Cause: module 'gast' has no attribute 'Num'\n",
            "WARNING: Entity <function Function._initialize_uninitialized_variables.<locals>.initialize_variables at 0x7f6ea99de840> could not be transformed and will be executed as-is. Please report this to the AutoGraph team. When filing the bug, set the verbosity to 10 (on Linux, `export AUTOGRAPH_VERBOSITY=10`) and attach the full output. Cause: module 'gast' has no attribute 'Num'\n",
            "WARNING:tensorflow:Entity <function Function._initialize_uninitialized_variables.<locals>.initialize_variables at 0x7f6ea998b2f0> could not be transformed and will be executed as-is. Please report this to the AutoGraph team. When filing the bug, set the verbosity to 10 (on Linux, `export AUTOGRAPH_VERBOSITY=10`) and attach the full output. Cause: module 'gast' has no attribute 'Num'\n",
            "WARNING: Entity <function Function._initialize_uninitialized_variables.<locals>.initialize_variables at 0x7f6ea998b2f0> could not be transformed and will be executed as-is. Please report this to the AutoGraph team. When filing the bug, set the verbosity to 10 (on Linux, `export AUTOGRAPH_VERBOSITY=10`) and attach the full output. Cause: module 'gast' has no attribute 'Num'\n",
            "WARNING:tensorflow:Entity <function Function._initialize_uninitialized_variables.<locals>.initialize_variables at 0x7f6ea998bae8> could not be transformed and will be executed as-is. Please report this to the AutoGraph team. When filing the bug, set the verbosity to 10 (on Linux, `export AUTOGRAPH_VERBOSITY=10`) and attach the full output. Cause: module 'gast' has no attribute 'Num'\n",
            "WARNING: Entity <function Function._initialize_uninitialized_variables.<locals>.initialize_variables at 0x7f6ea998bae8> could not be transformed and will be executed as-is. Please report this to the AutoGraph team. When filing the bug, set the verbosity to 10 (on Linux, `export AUTOGRAPH_VERBOSITY=10`) and attach the full output. Cause: module 'gast' has no attribute 'Num'\n",
            "WARNING:tensorflow:Entity <function Function._initialize_uninitialized_variables.<locals>.initialize_variables at 0x7f6ea9941488> could not be transformed and will be executed as-is. Please report this to the AutoGraph team. When filing the bug, set the verbosity to 10 (on Linux, `export AUTOGRAPH_VERBOSITY=10`) and attach the full output. Cause: module 'gast' has no attribute 'Num'\n",
            "WARNING: Entity <function Function._initialize_uninitialized_variables.<locals>.initialize_variables at 0x7f6ea9941488> could not be transformed and will be executed as-is. Please report this to the AutoGraph team. When filing the bug, set the verbosity to 10 (on Linux, `export AUTOGRAPH_VERBOSITY=10`) and attach the full output. Cause: module 'gast' has no attribute 'Num'\n",
            "WARNING:tensorflow:Entity <function Function._initialize_uninitialized_variables.<locals>.initialize_variables at 0x7f6ea98fd8c8> could not be transformed and will be executed as-is. Please report this to the AutoGraph team. When filing the bug, set the verbosity to 10 (on Linux, `export AUTOGRAPH_VERBOSITY=10`) and attach the full output. Cause: module 'gast' has no attribute 'Num'\n",
            "WARNING: Entity <function Function._initialize_uninitialized_variables.<locals>.initialize_variables at 0x7f6ea98fd8c8> could not be transformed and will be executed as-is. Please report this to the AutoGraph team. When filing the bug, set the verbosity to 10 (on Linux, `export AUTOGRAPH_VERBOSITY=10`) and attach the full output. Cause: module 'gast' has no attribute 'Num'\n",
            "WARNING:tensorflow:Entity <function Function._initialize_uninitialized_variables.<locals>.initialize_variables at 0x7f6ea9929510> could not be transformed and will be executed as-is. Please report this to the AutoGraph team. When filing the bug, set the verbosity to 10 (on Linux, `export AUTOGRAPH_VERBOSITY=10`) and attach the full output. Cause: module 'gast' has no attribute 'Num'\n",
            "WARNING: Entity <function Function._initialize_uninitialized_variables.<locals>.initialize_variables at 0x7f6ea9929510> could not be transformed and will be executed as-is. Please report this to the AutoGraph team. When filing the bug, set the verbosity to 10 (on Linux, `export AUTOGRAPH_VERBOSITY=10`) and attach the full output. Cause: module 'gast' has no attribute 'Num'\n",
            "WARNING:tensorflow:Entity <function Function._initialize_uninitialized_variables.<locals>.initialize_variables at 0x7f6ea9929bf8> could not be transformed and will be executed as-is. Please report this to the AutoGraph team. When filing the bug, set the verbosity to 10 (on Linux, `export AUTOGRAPH_VERBOSITY=10`) and attach the full output. Cause: module 'gast' has no attribute 'Num'\n",
            "WARNING: Entity <function Function._initialize_uninitialized_variables.<locals>.initialize_variables at 0x7f6ea9929bf8> could not be transformed and will be executed as-is. Please report this to the AutoGraph team. When filing the bug, set the verbosity to 10 (on Linux, `export AUTOGRAPH_VERBOSITY=10`) and attach the full output. Cause: module 'gast' has no attribute 'Num'\n",
            "WARNING:tensorflow:Entity <function Function._initialize_uninitialized_variables.<locals>.initialize_variables at 0x7f6ea9941840> could not be transformed and will be executed as-is. Please report this to the AutoGraph team. When filing the bug, set the verbosity to 10 (on Linux, `export AUTOGRAPH_VERBOSITY=10`) and attach the full output. Cause: module 'gast' has no attribute 'Num'\n",
            "WARNING: Entity <function Function._initialize_uninitialized_variables.<locals>.initialize_variables at 0x7f6ea9941840> could not be transformed and will be executed as-is. Please report this to the AutoGraph team. When filing the bug, set the verbosity to 10 (on Linux, `export AUTOGRAPH_VERBOSITY=10`) and attach the full output. Cause: module 'gast' has no attribute 'Num'\n",
            "WARNING:tensorflow:Entity <function Function._initialize_uninitialized_variables.<locals>.initialize_variables at 0x7f6ea98e0f28> could not be transformed and will be executed as-is. Please report this to the AutoGraph team. When filing the bug, set the verbosity to 10 (on Linux, `export AUTOGRAPH_VERBOSITY=10`) and attach the full output. Cause: module 'gast' has no attribute 'Num'\n",
            "WARNING: Entity <function Function._initialize_uninitialized_variables.<locals>.initialize_variables at 0x7f6ea98e0f28> could not be transformed and will be executed as-is. Please report this to the AutoGraph team. When filing the bug, set the verbosity to 10 (on Linux, `export AUTOGRAPH_VERBOSITY=10`) and attach the full output. Cause: module 'gast' has no attribute 'Num'\n",
            "WARNING:tensorflow:Entity <function Function._initialize_uninitialized_variables.<locals>.initialize_variables at 0x7f6ea99b2048> could not be transformed and will be executed as-is. Please report this to the AutoGraph team. When filing the bug, set the verbosity to 10 (on Linux, `export AUTOGRAPH_VERBOSITY=10`) and attach the full output. Cause: module 'gast' has no attribute 'Num'\n",
            "WARNING: Entity <function Function._initialize_uninitialized_variables.<locals>.initialize_variables at 0x7f6ea99b2048> could not be transformed and will be executed as-is. Please report this to the AutoGraph team. When filing the bug, set the verbosity to 10 (on Linux, `export AUTOGRAPH_VERBOSITY=10`) and attach the full output. Cause: module 'gast' has no attribute 'Num'\n",
            "WARNING:tensorflow:Entity <function Function._initialize_uninitialized_variables.<locals>.initialize_variables at 0x7f6ea9898ae8> could not be transformed and will be executed as-is. Please report this to the AutoGraph team. When filing the bug, set the verbosity to 10 (on Linux, `export AUTOGRAPH_VERBOSITY=10`) and attach the full output. Cause: module 'gast' has no attribute 'Num'\n",
            "WARNING: Entity <function Function._initialize_uninitialized_variables.<locals>.initialize_variables at 0x7f6ea9898ae8> could not be transformed and will be executed as-is. Please report this to the AutoGraph team. When filing the bug, set the verbosity to 10 (on Linux, `export AUTOGRAPH_VERBOSITY=10`) and attach the full output. Cause: module 'gast' has no attribute 'Num'\n",
            "WARNING:tensorflow:Entity <function canonicalize_signatures.<locals>.signature_wrapper at 0x7f6ea9a25488> could not be transformed and will be executed as-is. Please report this to the AutoGraph team. When filing the bug, set the verbosity to 10 (on Linux, `export AUTOGRAPH_VERBOSITY=10`) and attach the full output. Cause: Bad argument number for Name: 3, expecting 4\n",
            "WARNING: Entity <function canonicalize_signatures.<locals>.signature_wrapper at 0x7f6ea9a25488> could not be transformed and will be executed as-is. Please report this to the AutoGraph team. When filing the bug, set the verbosity to 10 (on Linux, `export AUTOGRAPH_VERBOSITY=10`) and attach the full output. Cause: Bad argument number for Name: 3, expecting 4\n",
            "WARNING:tensorflow:Entity <function Function._initialize_uninitialized_variables.<locals>.initialize_variables at 0x7f6ea976a0d0> could not be transformed and will be executed as-is. Please report this to the AutoGraph team. When filing the bug, set the verbosity to 10 (on Linux, `export AUTOGRAPH_VERBOSITY=10`) and attach the full output. Cause: module 'gast' has no attribute 'Num'\n",
            "WARNING: Entity <function Function._initialize_uninitialized_variables.<locals>.initialize_variables at 0x7f6ea976a0d0> could not be transformed and will be executed as-is. Please report this to the AutoGraph team. When filing the bug, set the verbosity to 10 (on Linux, `export AUTOGRAPH_VERBOSITY=10`) and attach the full output. Cause: module 'gast' has no attribute 'Num'\n",
            "INFO:tensorflow:Assets written to: /content/drive/My Drive/Colab Notebooks/2021_OEN/8L_model_20/assets\n",
            "Model: \"sequential_2\"\n",
            "_________________________________________________________________\n",
            "Layer (type)                 Output Shape              Param #   \n",
            "=================================================================\n",
            "dense_10 (Dense)             (None, 300)               2700      \n",
            "_________________________________________________________________\n",
            "dense_11 (Dense)             (None, 300)               90300     \n",
            "_________________________________________________________________\n",
            "dense_12 (Dense)             (None, 300)               90300     \n",
            "_________________________________________________________________\n",
            "dense_13 (Dense)             (None, 300)               90300     \n",
            "_________________________________________________________________\n",
            "dense_14 (Dense)             (None, 201)               60501     \n",
            "=================================================================\n",
            "Total params: 334,101\n",
            "Trainable params: 334,101\n",
            "Non-trainable params: 0\n",
            "_________________________________________________________________\n"
          ],
          "name": "stdout"
        }
      ]
    },
    {
      "cell_type": "code",
      "metadata": {
        "colab": {
          "base_uri": "https://localhost:8080/"
        },
        "id": "Myn0GawG3xID",
        "outputId": "f3e0a378-c6ea-4de4-8c0d-6aa04cae911b"
      },
      "source": [
        "RT = Folder + 'RTtest_L0.csv'\r\n",
        "X_RT = pd.read_csv(RT)\r\n",
        "X_RT_input = X_RT.apply(lambda x: (x-40)/160)\r\n",
        "predict_start = time.time()\r\n",
        "predict_RT =  load_model.predict(X_RT_input)\r\n",
        "predict_end = time.time()\r\n",
        "print(\"Prediction Runtime : \", np.round(predict_end - predict_start, 2))"
      ],
      "execution_count": null,
      "outputs": [
        {
          "output_type": "stream",
          "text": [
            "WARNING:tensorflow:Falling back from v2 loop because of error: Failed to find data adapter that can handle input: <class 'pandas.core.frame.DataFrame'>, <class 'NoneType'>\n",
            "Prediction Runtime :  2.81\n"
          ],
          "name": "stdout"
        }
      ]
    },
    {
      "cell_type": "code",
      "metadata": {
        "colab": {
          "base_uri": "https://localhost:8080/"
        },
        "id": "Z9BQ2eg_7k1a",
        "outputId": "b41ad9d4-c364-48e5-fa19-c866e7eec92a"
      },
      "source": [
        "# Material Data\r\n",
        "Dict_M = ['Air','Ag','Alq3','C60','CuPC','SiO2','SiNx']\r\n",
        "OriginData = np.zeros(7, dtype=object)\r\n",
        "OriginData[1] = pd.read_csv(Folder + 'Ag.dat', skipinitialspace=True)  # Ag\r\n",
        "OriginData[2] = pd.read_csv(Folder + 'Alq3.dat', skipinitialspace=True)  # Alq3\r\n",
        "OriginData[3] = pd.read_csv(Folder + 'c60.dat', skipinitialspace=True)  # c60\r\n",
        "OriginData[4] = pd.read_csv(Folder + 'cupc.dat', skipinitialspace=True)  # cupc\r\n",
        "OriginData[5] = 1.50  # sio2\r\n",
        "OriginData[6] = 1.91  # sinx\r\n",
        "\r\n",
        "Points = 200+1\r\n",
        "Lambda = np.linspace(400, 800, Points)  # case 1\r\n",
        "j = complex(0, 1)\r\n",
        "\r\n",
        "Index = np.zeros((7, 2, Points))\r\n",
        "Index[0][0] = np.full(Points, 1.00)\r\n",
        "Index[0][1] = np.zeros(Points)\r\n",
        "for i in range(1, 5):\r\n",
        "    Index[i][0] = np.array(splev(Lambda, splrep(OriginData[i]['lambda'], OriginData[i]['n'])))\r\n",
        "    Index[i][1] = np.array(splev(Lambda, splrep(OriginData[i]['lambda'], OriginData[i]['k'])))\r\n",
        "Index[5][0] = np.full(Points, 1.50)\r\n",
        "Index[5][1] = np.zeros(Points)\r\n",
        "Index[6][0] = np.full(Points, 1.91)\r\n",
        "Index[6][1] = np.zeros(Points)\r\n",
        "\r\n",
        "Ksquare = np.zeros((7, Points), dtype=complex)\r\n",
        "for i in range(7):\r\n",
        "    Ksquare[i] = np.ravel(np.square(np.divide(np.ravel(np.transpose(Index[i]) @ np.array([[1], [j]])), Lambda) * 2*np.pi/(10**-9)))\r\n",
        "\r\n",
        "# Layer conditions\r\n",
        "Set_M = np.array([5, 6])  # 0~6 : vacuum, ag, alq3, c60, cupc, sio2, sinx\r\n",
        "set_num = len(Set_M)\r\n",
        "REP = 4\r\n",
        "Data_num = 50000\r\n",
        "\r\n",
        "def Lm(q, q_next, d):\r\n",
        "    Q = np.array([np.array([[(q + q_next) / q_next / 2, (q_next - q) / q_next / 2], [(q_next - q) / q_next / 2, (q + q_next) / q_next / 2]]).swapaxes(0,2), ]*Data_num)\r\n",
        "    D = np.multiply(np.eye(2), np.array([np.exp(j * np.outer(q, d).ravel()), np.exp(-j * np.outer(q, d).ravel())]).swapaxes(0, 1)[:, np.newaxis]).reshape(Data_num, Points, 2, 2)\r\n",
        "    return Q @ D\r\n",
        "vLm = np.vectorize(Lm, otypes=[np.ndarray])\r\n",
        "\r\n",
        "def cal_input(Set_T = np.array(X_RT)):\r\n",
        "    M = np.array([np.identity(2), ]*Data_num*Points).reshape(Data_num, Points, 2, 2)\r\n",
        "    q = np.sqrt(np.array(Ksquare[0]))\r\n",
        "    q_next = np.sqrt(np.array(Ksquare[Set_M[0]]))\r\n",
        "    M = np.matmul(Lm(np.ravel([q]), np.ravel([q_next]), np.ravel([0,]*Data_num)), M)\r\n",
        "    q = q_next\r\n",
        "    for i in range(1, set_num*REP):\r\n",
        "        q_next = np.sqrt(np.array(Ksquare[Set_M[i % set_num]]))\r\n",
        "        M = np.matmul(Lm(np.ravel([q]), np.ravel([q_next]), np.ravel(Set_T.transpose()[i-1]*(10**-9))), M)\r\n",
        "        q = q_next\r\n",
        "    q_next = np.sqrt(np.array(Ksquare[0]))\r\n",
        "    M = np.matmul(Lm(np.ravel([q]), np.ravel([q_next]), np.ravel(Set_T.transpose()[set_num*REP-1]*(10**-9))), M)\r\n",
        "    M = np.reshape(M, (Data_num*Points, 4)).transpose()\r\n",
        "    r, t = -M[2]/M[3], M[0]-M[1]*M[2]/M[3]\r\n",
        "    R, T = np.reshape(abs(r)**2, (Points, Data_num)).transpose(), np.reshape(abs(t)**2, (Points, Data_num)).transpose()\r\n",
        "    T = np.round(T, 4)\r\n",
        "    return T\r\n",
        "\r\n",
        "cal_start = time.time()\r\n",
        "cal_RT = cal_input()\r\n",
        "cal_end = time.time()\r\n",
        "print(np.round(cal_end - cal_start, 2))"
      ],
      "execution_count": null,
      "outputs": [
        {
          "output_type": "stream",
          "text": [
            "57.89\n"
          ],
          "name": "stdout"
        }
      ]
    },
    {
      "cell_type": "code",
      "metadata": {
        "colab": {
          "base_uri": "https://localhost:8080/",
          "height": 304
        },
        "id": "F4Bohwms2EIz",
        "outputId": "9e822750-3291-478b-eb54-862c09ecc0ce"
      },
      "source": [
        "predict_ex =  predict_RT[0]\r\n",
        "cal_ex = cal_RT[0]\r\n",
        "print(\"Test Loss : \", np.round(np.average(np.abs(predict_RT - cal_RT)), 4))\r\n",
        "\r\n",
        "plt.plot(Lambda, predict_ex.reshape(Points,), label='Predict')\r\n",
        "plt.plot(Lambda, cal_ex.reshape(Points,), label='TMM')\r\n",
        "plt.ylim(0.0, 1.0)\r\n",
        "plt.legend()"
      ],
      "execution_count": null,
      "outputs": [
        {
          "output_type": "stream",
          "text": [
            "Test Loss :  0.0107\n"
          ],
          "name": "stdout"
        },
        {
          "output_type": "execute_result",
          "data": {
            "text/plain": [
              "<matplotlib.legend.Legend at 0x7f6ea94ff828>"
            ]
          },
          "metadata": {
            "tags": []
          },
          "execution_count": 54
        },
        {
          "output_type": "display_data",
          "data": {
            "image/png": "[encoded data removed]",
            "text/plain": [
              "<Figure size 432x288 with 1 Axes>"
            ]
          },
          "metadata": {
            "tags": [],
            "needs_background": "light"
          }
        }
      ]
    }
  ]
}