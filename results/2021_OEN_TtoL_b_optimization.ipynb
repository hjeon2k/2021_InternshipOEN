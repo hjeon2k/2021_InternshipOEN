{
  "nbformat": 4,
  "nbformat_minor": 0,
  "metadata": {
    "colab": {
      "name": "2021_OEN_LtoT_optimize",
      "provenance": [],
      "collapsed_sections": []
    },
    "kernelspec": {
      "name": "python3",
      "display_name": "Python 3"
    }
  },
  "cells": [
    {
      "cell_type": "code",
      "metadata": {
        "colab": {
          "base_uri": "https://localhost:8080/"
        },
        "id": "n0AqOEW0knp0",
        "outputId": "29a84be1-d1d7-405a-8594-5749ed1cb791"
      },
      "source": [
        "!pip install -q tensorflow-gpu==2.0.0-rc1\r\n",
        "!pip3 install 'gast==0.3.3'\r\n",
        "import tensorflow as tf"
      ],
      "execution_count": null,
      "outputs": [
        {
          "output_type": "stream",
          "text": [
            "\u001b[K     |████████████████████████████████| 380.5MB 41kB/s \n",
            "\u001b[K     |████████████████████████████████| 4.3MB 30.9MB/s \n",
            "\u001b[K     |████████████████████████████████| 501kB 42.8MB/s \n",
            "\u001b[K     |████████████████████████████████| 51kB 5.7MB/s \n",
            "\u001b[?25hRequirement already satisfied: gast==0.3.3 in /usr/local/lib/python3.7/dist-packages (0.3.3)\n"
          ],
          "name": "stdout"
        }
      ]
    },
    {
      "cell_type": "code",
      "metadata": {
        "colab": {
          "base_uri": "https://localhost:8080/"
        },
        "id": "gPGN6kC_k3Xh",
        "outputId": "30df8ee0-b2dd-426c-8bca-cd73a6d73566"
      },
      "source": [
        "import matplotlib.pyplot as plt\r\n",
        "import pandas as pd\r\n",
        "import numpy as np\r\n",
        "import time\r\n",
        "from scipy.interpolate import splrep, splev\r\n",
        "\r\n",
        "from sklearn.preprocessing import MinMaxScaler\r\n",
        "from sklearn.compose import make_column_transformer\r\n",
        "from sklearn.model_selection import train_test_split\r\n",
        "\r\n",
        "from tensorflow import keras\r\n",
        "from tensorflow.keras import layers\r\n",
        "from tensorflow.keras import callbacks\r\n",
        "from tensorflow.keras.callbacks import EarlyStopping\r\n",
        "\r\n",
        "from google.colab import drive\r\n",
        "drive.mount('/content/drive')\r\n",
        "Folder = '/content/drive/My Drive/Colab Notebooks/2021_OEN/'"
      ],
      "execution_count": null,
      "outputs": [
        {
          "output_type": "stream",
          "text": [
            "Mounted at /content/drive\n"
          ],
          "name": "stdout"
        }
      ]
    },
    {
      "cell_type": "code",
      "metadata": {
        "colab": {
          "base_uri": "https://localhost:8080/"
        },
        "id": "UNmvOOElZ9fX",
        "outputId": "11919416-5991-4e93-e93d-4c46c187b80e"
      },
      "source": [
        "f_model = keras.models.load_model(Folder + \"8L_model_20\")\r\n",
        "f_model.summary()"
      ],
      "execution_count": null,
      "outputs": [
        {
          "output_type": "stream",
          "text": [
            "Model: \"sequential_2\"\n",
            "_________________________________________________________________\n",
            "Layer (type)                 Output Shape              Param #   \n",
            "=================================================================\n",
            "dense_10 (Dense)             (None, 300)               2700      \n",
            "_________________________________________________________________\n",
            "dense_11 (Dense)             (None, 300)               90300     \n",
            "_________________________________________________________________\n",
            "dense_12 (Dense)             (None, 300)               90300     \n",
            "_________________________________________________________________\n",
            "dense_13 (Dense)             (None, 300)               90300     \n",
            "_________________________________________________________________\n",
            "dense_14 (Dense)             (None, 201)               60501     \n",
            "=================================================================\n",
            "Total params: 334,101\n",
            "Trainable params: 334,101\n",
            "Non-trainable params: 0\n",
            "_________________________________________________________________\n"
          ],
          "name": "stdout"
        }
      ]
    },
    {
      "cell_type": "code",
      "metadata": {
        "id": "C1J_DSU4y6jG"
      },
      "source": [
        "X = np.ones((2, 1))\r\n",
        "target = 5\r\n",
        "t = pd.read_csv(Folder + 'saveT_20.csv').iloc[target]\r\n",
        "y = np.array([t, t])\r\n",
        "\r\n",
        "X_train, X_valid, y_train, y_valid = train_test_split(X, y, test_size=0.5)\r\n",
        "input_shape = [X_train.shape[1]]"
      ],
      "execution_count": null,
      "outputs": []
    },
    {
      "cell_type": "code",
      "metadata": {
        "id": "w2k9eBx_dUcO"
      },
      "source": [
        "early_stopping = callbacks.EarlyStopping(\r\n",
        "    min_delta=0.001,\r\n",
        "    patience=100,\r\n",
        "    restore_best_weights=True,\r\n",
        ")"
      ],
      "execution_count": null,
      "outputs": []
    },
    {
      "cell_type": "code",
      "metadata": {
        "colab": {
          "base_uri": "https://localhost:8080/",
          "height": 373
        },
        "id": "gyLAwT7m2Rm2",
        "outputId": "0e6da12e-fb81-4602-c6e9-4ef85de3fc38"
      },
      "source": [
        "w_model = model = keras.Sequential([\r\n",
        "    layers.Dense(300, activation='relu', input_shape=input_shape),\r\n",
        "    layers.Dense(8, activation='relu'),\r\n",
        "])\r\n",
        "\r\n",
        "model = keras.Sequential([\r\n",
        "    w_model,\r\n",
        "    f_model\r\n",
        "])\r\n",
        "f_model.trainable = False\r\n",
        "\r\n",
        "model.compile(\r\n",
        "    optimizer='adam',\r\n",
        "    loss='mae',\r\n",
        ")\r\n",
        "\r\n",
        "compile_start = time.time()\r\n",
        "history = model.fit(\r\n",
        "    X_train, y_train,\r\n",
        "    validation_data=(X_valid, y_valid),\r\n",
        "    batch_size=1,\r\n",
        "    epochs=1000,\r\n",
        "    callbacks=[early_stopping],\r\n",
        "    verbose=0,\r\n",
        ")\r\n",
        "compile_end = time.time()\r\n",
        "print(\"Model Compile Runtime : \", np.round(compile_end - compile_start))\r\n",
        "\r\n",
        "history_df = pd.DataFrame(history.history)\r\n",
        "history_df.loc[:, ['loss', 'val_loss']].plot()\r\n",
        "print(\"Minimum Train Loss : {:0.4f} \\n Minimum Validation Loss: {:0.4f}\".format(history_df['loss'].min(), history_df['val_loss'].min()))"
      ],
      "execution_count": null,
      "outputs": [
        {
          "output_type": "stream",
          "text": [
            "WARNING:tensorflow:Entity <function Function._initialize_uninitialized_variables.<locals>.initialize_variables at 0x7f349b20ddd0> could not be transformed and will be executed as-is. Please report this to the AutoGraph team. When filing the bug, set the verbosity to 10 (on Linux, `export AUTOGRAPH_VERBOSITY=10`) and attach the full output. Cause: module 'gast' has no attribute 'Num'\n",
            "WARNING: Entity <function Function._initialize_uninitialized_variables.<locals>.initialize_variables at 0x7f349b20ddd0> could not be transformed and will be executed as-is. Please report this to the AutoGraph team. When filing the bug, set the verbosity to 10 (on Linux, `export AUTOGRAPH_VERBOSITY=10`) and attach the full output. Cause: module 'gast' has no attribute 'Num'\n",
            "Model Compile Runtime :  4.0\n",
            "Minimum Train Loss : 0.0319 \n",
            " Minimum Validation Loss: 0.0319\n"
          ],
          "name": "stdout"
        },
        {
          "output_type": "display_data",
          "data": {
            "image/png": "[encoded data removed]",
            "text/plain": [
              "<Figure size 432x288 with 1 Axes>"
            ]
          },
          "metadata": {
            "tags": [],
            "needs_background": "light"
          }
        }
      ]
    },
    {
      "cell_type": "code",
      "metadata": {
        "id": "HZUMpjSShtAh"
      },
      "source": [
        "# Material Data\r\n",
        "Dict_M = ['Air','Ag','Alq3','C60','CuPC','SiO2','SiNx']\r\n",
        "OriginData = np.zeros(7, dtype=object)\r\n",
        "OriginData[1] = pd.read_csv(Folder + 'Ag.dat', skipinitialspace=True)  # Ag\r\n",
        "OriginData[2] = pd.read_csv(Folder + 'Alq3.dat', skipinitialspace=True)  # Alq3\r\n",
        "OriginData[3] = pd.read_csv(Folder + 'c60.dat', skipinitialspace=True)  # c60\r\n",
        "OriginData[4] = pd.read_csv(Folder + 'cupc.dat', skipinitialspace=True)  # cupc\r\n",
        "OriginData[5] = 1.50  # sio2\r\n",
        "OriginData[6] = 1.91  # sinx\r\n",
        "\r\n",
        "Points = 200+1\r\n",
        "Lambda = np.linspace(400, 800, Points)  # case 1\r\n",
        "j = complex(0, 1)\r\n",
        "\r\n",
        "Index = np.zeros((7, 2, Points))\r\n",
        "Index[0][0] = np.full(Points, 1.00)\r\n",
        "Index[0][1] = np.zeros(Points)\r\n",
        "for i in range(1, 5):\r\n",
        "    Index[i][0] = np.array(splev(Lambda, splrep(OriginData[i]['lambda'], OriginData[i]['n'])))\r\n",
        "    Index[i][1] = np.array(splev(Lambda, splrep(OriginData[i]['lambda'], OriginData[i]['k'])))\r\n",
        "Index[5][0] = np.full(Points, 1.50)\r\n",
        "Index[5][1] = np.zeros(Points)\r\n",
        "Index[6][0] = np.full(Points, 1.91)\r\n",
        "Index[6][1] = np.zeros(Points)\r\n",
        "\r\n",
        "Ksquare = np.zeros((7, Points), dtype=complex)\r\n",
        "for i in range(7):\r\n",
        "    Ksquare[i] = np.ravel(np.square(np.divide(np.ravel(np.transpose(Index[i]) @ np.array([[1], [j]])), Lambda) * 2*np.pi/(10**-9)))\r\n",
        "\r\n",
        "# Layer conditions\r\n",
        "Set_M = np.array([5, 6])  # 0~6 : vacuum, ag, alq3, c60, cupc, sio2, sinx\r\n",
        "set_num = len(Set_M)\r\n",
        "REP = 4\r\n",
        "Data_num = 1\r\n",
        "\r\n",
        "def Lm(q, q_next, d):\r\n",
        "    Q = np.array([np.array([[(q + q_next) / q_next / 2, (q_next - q) / q_next / 2], [(q_next - q) / q_next / 2, (q + q_next) / q_next / 2]]).swapaxes(0,2), ]*Data_num)\r\n",
        "    D = np.multiply(np.eye(2), np.array([np.exp(j * np.outer(q, d).ravel()), np.exp(-j * np.outer(q, d).ravel())]).swapaxes(0, 1)[:, np.newaxis]).reshape(Data_num, Points, 2, 2)\r\n",
        "    return Q @ D\r\n",
        "vLm = np.vectorize(Lm, otypes=[np.ndarray])\r\n",
        "\r\n",
        "def cal_input(Set_T):\r\n",
        "    M = np.array([np.identity(2), ]*Data_num*Points).reshape(Data_num, Points, 2, 2)\r\n",
        "    q = np.sqrt(np.array(Ksquare[0]))\r\n",
        "    q_next = np.sqrt(np.array(Ksquare[Set_M[0]]))\r\n",
        "    M = np.matmul(Lm(np.ravel([q]), np.ravel([q_next]), np.ravel([0,]*Data_num)), M)\r\n",
        "    q = q_next\r\n",
        "    for i in range(1, set_num*REP):\r\n",
        "        q_next = np.sqrt(np.array(Ksquare[Set_M[i % set_num]]))\r\n",
        "        M = np.matmul(Lm(np.ravel([q]), np.ravel([q_next]), np.ravel(Set_T.transpose()[i-1]*(10**-9))), M)\r\n",
        "        q = q_next\r\n",
        "    q_next = np.sqrt(np.array(Ksquare[0]))\r\n",
        "    M = np.matmul(Lm(np.ravel([q]), np.ravel([q_next]), np.ravel(Set_T.transpose()[set_num*REP-1]*(10**-9))), M)\r\n",
        "    M = np.reshape(M, (Data_num*Points, 4)).transpose()\r\n",
        "    r, t = -M[2]/M[3], M[0]-M[1]*M[2]/M[3]\r\n",
        "    R, T = np.reshape(abs(r)**2, (Points, Data_num)).transpose(), np.reshape(abs(t)**2, (Points, Data_num)).transpose()\r\n",
        "    T = np.round(T, 4)\r\n",
        "    return T"
      ],
      "execution_count": null,
      "outputs": []
    },
    {
      "cell_type": "code",
      "metadata": {
        "colab": {
          "base_uri": "https://localhost:8080/",
          "height": 304
        },
        "id": "F4Bohwms2EIz",
        "outputId": "6065f9e8-8dbe-457f-c0fa-ede1b01070c6"
      },
      "source": [
        "predict = model.predict([1])\r\n",
        "layer_pred = w_model.predict([1])\r\n",
        "predict2 = f_model.predict(layer_pred)\r\n",
        "tmm_spec = cal_input(layer_pred*160+40)\r\n",
        "f_model_20 = keras.models.load_model(Folder + \"8L_model_20\")\r\n",
        "predict3 = f_model_20.predict(layer_pred)\r\n",
        "\r\n",
        "print('Predicted Layer : ', np.round(layer_pred*160+40))\r\n",
        "Lambda = np.linspace(400, 800, 201)\r\n",
        "#plt.plot(Lambda, predict.reshape(201,), label='Predict')\r\n",
        "plt.plot(Lambda, np.round(predict3.reshape(201,), 2), label='F_Predict', c='#0281c2')\r\n",
        "plt.plot(Lambda, tmm_spec.reshape(201,), label='TMM result', ls='--', c='#a3e0ff')\r\n",
        "plt.plot(Lambda, t, label='Desired', c='#02c24f')\r\n",
        "plt.ylim(0.0, 1.0)\r\n",
        "plt.legend()\r\n",
        "\r\n",
        "print('Desired Layer : ', np.array(pd.read_csv(Folder + 'saveL_20.csv').iloc[target]))"
      ],
      "execution_count": null,
      "outputs": [
        {
          "output_type": "stream",
          "text": [
            "Predicted Layer :  [[ 40.  71. 110.  40.  40.  40.  70.  94.]]\n",
            "Desired Layer :  [113. 165.  90.  97.  63.  86. 150.  98.]\n"
          ],
          "name": "stdout"
        },
        {
          "output_type": "display_data",
          "data": {
            "image/png": "[encoded data removed]",
            "text/plain": [
              "<Figure size 432x288 with 1 Axes>"
            ]
          },
          "metadata": {
            "tags": [],
            "needs_background": "light"
          }
        }
      ]
    }
  ]
}